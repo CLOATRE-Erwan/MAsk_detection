{
 "cells": [
  {
   "cell_type": "code",
   "execution_count": 83,
   "metadata": {},
   "outputs": [],
   "source": [
    "import pandas as pd\n",
    "import numpy as np\n",
    "import os\n",
    "import random\n",
    "import tensorflow as tf\n",
    "import cv2\n",
    "from tensorflow import keras\n",
    "from  matplotlib import pyplot as plt\n",
    "import matplotlib.image as mpimg\n",
    "from keras.utils import np_utils\n",
    "from keras.models import Sequential\n",
    "from keras.layers import Conv2D, MaxPooling2D, Dense, Activation, Flatten, Dropout\n",
    "import seaborn as sns\n",
    "from sklearn import metrics\n",
    "from sklearn.metrics import confusion_matrix"
   ]
  },
  {
   "cell_type": "code",
   "execution_count": 84,
   "metadata": {},
   "outputs": [
    {
     "name": "stdout",
     "output_type": "stream",
     "text": [
      "{'without_mask': 0, 'with_mask': 1}\n",
      "{'without_mask': 0, 'with_mask': 1}\n"
     ]
    }
   ],
   "source": [
    "data_train_path = r'C:\\Users\\utilisateur\\Documents\\MicrosoftIA\\detection_mask\\Dataset_masks\\train'\n",
    "data_test_path = r'C:\\Users\\utilisateur\\Documents\\MicrosoftIA\\detection_mask\\Dataset_masks\\test'\n",
    "categorie_train = os.listdir(data_train_path)\n",
    "categorie_test = os.listdir(data_test_path)\n",
    "labels_train = [i for i in range(len(categorie_train))]\n",
    "labels_test = [i for i in range(len(categorie_test))]\n",
    "\n",
    "label_train_dict = dict(zip(categorie_train,labels_train))\n",
    "label_test_dict = dict(zip(categorie_test,labels_test))\n",
    "print(label_train_dict)\n",
    "print(label_test_dict)"
   ]
  },
  {
   "cell_type": "code",
   "execution_count": 85,
   "metadata": {},
   "outputs": [],
   "source": [
    "img_size = 96\n",
    "data_train = []\n",
    "data_test = []\n",
    "target_train = []\n",
    "target_test = []"
   ]
  },
  {
   "cell_type": "code",
   "execution_count": 86,
   "metadata": {},
   "outputs": [],
   "source": [
    "for category in categorie_train:\n",
    "    folder_path = os.path.join(data_train_path, category)\n",
    "    img_names = os.listdir(folder_path)\n",
    "    \n",
    "    for img_name in img_names:\n",
    "        img_path = os.path.join(folder_path, img_name)\n",
    "        img = cv2.imread(img_path)\n",
    "        \n",
    "        #img_gray = cv2.cvtColor(img, cv2.COLOR_BGR2GRAY)\n",
    "        img_resized = cv2.resize(img, (img_size, img_size))\n",
    "        data_train.append(img_resized)\n",
    "        target_train.append(label_train_dict[category])"
   ]
  },
  {
   "cell_type": "code",
   "execution_count": 87,
   "metadata": {},
   "outputs": [],
   "source": [
    "for category in categorie_test:\n",
    "    folder_path = os.path.join(data_test_path, category)\n",
    "    img_names = os.listdir(folder_path)\n",
    "    \n",
    "    for img_name in img_names:\n",
    "        img_path = os.path.join(folder_path, img_name)\n",
    "        img = cv2.imread(img_path)\n",
    "        \n",
    "        #img_gray = cv2.cvtColor(img, cv2.COLOR_BGR2GRAY)\n",
    "        img_resized = cv2.resize(img, (img_size, img_size))\n",
    "        data_test.append(img_resized)\n",
    "        target_test.append(label_test_dict[category])"
   ]
  },
  {
   "cell_type": "code",
   "execution_count": 90,
   "metadata": {},
   "outputs": [],
   "source": [
    "data_train = np.array(data_train)\n",
    "data_test = np.array(data_test)\n",
    "data_train = data_train.reshape(-1,96,96,3).astype('float')/255\n",
    "data_test = data_test.reshape(-1,96,96,3).astype('float')/255\n",
    "target_train = np.array(target_train)\n",
    "target_test = np.array(target_test)\n",
    "# new_target = np_utils.to_categorical(target)"
   ]
  },
  {
   "cell_type": "code",
   "execution_count": 91,
   "metadata": {},
   "outputs": [
    {
     "name": "stdout",
     "output_type": "stream",
     "text": [
      "(1315, 96, 96, 3)\n",
      "(194, 96, 96, 3)\n"
     ]
    }
   ],
   "source": [
    "print(data_train.shape)\n",
    "print(data_test.shape)"
   ]
  },
  {
   "cell_type": "code",
   "execution_count": 92,
   "metadata": {},
   "outputs": [
    {
     "name": "stdout",
     "output_type": "stream",
     "text": [
      "(1315,)\n",
      "(194,)\n"
     ]
    }
   ],
   "source": [
    "print(target_train.shape)\n",
    "print(target_test.shape)"
   ]
  },
  {
   "cell_type": "code",
   "execution_count": 93,
   "metadata": {},
   "outputs": [],
   "source": [
    "model = tf.keras.models.Sequential()\n",
    "model.add(tf.keras.layers.Conv2D(64, kernel_size=3, activation='relu',  input_shape=(96, 96, 3)))\n",
    "model.add(tf.keras.layers.MaxPooling2D(pool_size=(2,2)))\n",
    "\n",
    "model.add(tf.keras.layers.Conv2D(128, kernel_size=3, activation='relu'))\n",
    "model.add(tf.keras.layers.MaxPooling2D(pool_size=(2,2)))\n",
    "\n",
    "model.add(tf.keras.layers.Conv2D(256, kernel_size=3, activation='relu'))\n",
    "model.add(tf.keras.layers.MaxPooling2D(pool_size=(2,2)))\n",
    "\n",
    "model.add(tf.keras.layers.Flatten())\n",
    "\n",
    "model.add(tf.keras.layers.Dense(64, activation='relu'))\n",
    "model.add(tf.keras.layers.Dropout(0.5))\n",
    "\n",
    "model.add(tf.keras.layers.Dense(1, activation='sigmoid'))\n",
    "\n",
    "model.compile(optimizer='adam', loss='binary_crossentropy', metrics=['accuracy'])"
   ]
  },
  {
   "cell_type": "code",
   "execution_count": 94,
   "metadata": {},
   "outputs": [
    {
     "name": "stdout",
     "output_type": "stream",
     "text": [
      "Epoch 1/10\n",
      "42/42 [==============================] - 40s 931ms/step - loss: 0.5769 - accuracy: 0.6420 - val_loss: 0.1435 - val_accuracy: 0.9485\n",
      "Epoch 2/10\n",
      "42/42 [==============================] - 39s 920ms/step - loss: 0.1392 - accuracy: 0.9648 - val_loss: 0.0869 - val_accuracy: 0.9588\n",
      "Epoch 3/10\n",
      "42/42 [==============================] - 37s 884ms/step - loss: 0.1101 - accuracy: 0.9673 - val_loss: 0.1089 - val_accuracy: 0.9536\n",
      "Epoch 4/10\n",
      "42/42 [==============================] - 37s 879ms/step - loss: 0.0837 - accuracy: 0.9716 - val_loss: 0.0925 - val_accuracy: 0.9639\n",
      "Epoch 5/10\n",
      "42/42 [==============================] - 37s 884ms/step - loss: 0.0746 - accuracy: 0.9721 - val_loss: 0.0931 - val_accuracy: 0.9536\n",
      "Epoch 6/10\n",
      "42/42 [==============================] - 37s 871ms/step - loss: 0.0526 - accuracy: 0.9777 - val_loss: 0.0837 - val_accuracy: 0.9691\n",
      "Epoch 7/10\n",
      "42/42 [==============================] - 37s 870ms/step - loss: 0.1219 - accuracy: 0.9556 - val_loss: 0.1709 - val_accuracy: 0.9485\n",
      "Epoch 8/10\n",
      "42/42 [==============================] - 38s 899ms/step - loss: 0.0832 - accuracy: 0.9700 - val_loss: 0.1394 - val_accuracy: 0.9639\n",
      "Epoch 9/10\n",
      "42/42 [==============================] - 38s 895ms/step - loss: 0.0385 - accuracy: 0.9843 - val_loss: 0.0962 - val_accuracy: 0.9691\n",
      "Epoch 10/10\n",
      "42/42 [==============================] - 36s 865ms/step - loss: 0.0275 - accuracy: 0.9921 - val_loss: 0.1417 - val_accuracy: 0.9639\n"
     ]
    },
    {
     "data": {
      "text/plain": [
       "<tensorflow.python.keras.callbacks.History at 0x208214629a0>"
      ]
     },
     "execution_count": 94,
     "metadata": {},
     "output_type": "execute_result"
    }
   ],
   "source": [
    "model.fit(data_train, target_train, epochs=10, validation_data=(data_test, target_test), shuffle=True)"
   ]
  },
  {
   "cell_type": "code",
   "execution_count": 95,
   "metadata": {},
   "outputs": [
    {
     "name": "stdout",
     "output_type": "stream",
     "text": [
      "INFO:tensorflow:Assets written to: model\\assets\n"
     ]
    }
   ],
   "source": [
    "model.save('model')"
   ]
  },
  {
   "cell_type": "code",
   "execution_count": 96,
   "metadata": {},
   "outputs": [
    {
     "name": "stdout",
     "output_type": "stream",
     "text": [
      "7/7 [==============================] - 2s 228ms/step - loss: 0.1417 - accuracy: 0.9639\n",
      "[0.1417093425989151, 0.9639175534248352]\n"
     ]
    }
   ],
   "source": [
    "print(model.evaluate(data_test, target_test))"
   ]
  },
  {
   "cell_type": "code",
   "execution_count": 97,
   "metadata": {},
   "outputs": [
    {
     "name": "stderr",
     "output_type": "stream",
     "text": [
      "C:\\Users\\utilisateur\\anaconda3\\lib\\site-packages\\tensorflow\\python\\keras\\engine\\sequential.py:450: UserWarning: `model.predict_classes()` is deprecated and will be removed after 2021-01-01. Please use instead:* `np.argmax(model.predict(x), axis=-1)`,   if your model does multi-class classification   (e.g. if it uses a `softmax` last-layer activation).* `(model.predict(x) > 0.5).astype(\"int32\")`,   if your model does binary classification   (e.g. if it uses a `sigmoid` last-layer activation).\n",
      "  warnings.warn('`model.predict_classes()` is deprecated and '\n"
     ]
    }
   ],
   "source": [
    "pred = model.predict_classes(data_test)\n",
    "cm = metrics.confusion_matrix(target_test, pred)"
   ]
  },
  {
   "cell_type": "code",
   "execution_count": 98,
   "metadata": {
    "scrolled": true
   },
   "outputs": [
    {
     "data": {
      "image/png": "[encoded data removed]",
      "text/plain": [
       "<Figure size 432x432 with 2 Axes>"
      ]
     },
     "metadata": {
      "needs_background": "light"
     },
     "output_type": "display_data"
    }
   ],
   "source": [
    "plt.figure(figsize=(6,6))\n",
    "sns.heatmap(cm, annot=True, fmt=\".0f\", linewidths=.5, square=True, cmap='mako')\n",
    "plt.ylabel('Actual label')\n",
    "plt.xlabel('Predicted label')\n",
    "plt.title(\"Matrice de confusion\", size=20)\n",
    "plt.show()"
   ]
  }
 ],
 "metadata": {
  "kernelspec": {
   "display_name": "Python 3",
   "language": "python",
   "name": "python3"
  },
  "language_info": {
   "codemirror_mode": {
    "name": "ipython",
    "version": 3
   },
   "file_extension": ".py",
   "mimetype": "text/x-python",
   "name": "python",
   "nbconvert_exporter": "python",
   "pygments_lexer": "ipython3",
   "version": "3.8.3"
  }
 },
 "nbformat": 4,
 "nbformat_minor": 4
}
